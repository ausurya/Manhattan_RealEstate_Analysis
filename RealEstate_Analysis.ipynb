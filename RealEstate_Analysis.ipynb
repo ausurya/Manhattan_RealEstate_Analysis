{
 "cells": [
  {
   "cell_type": "markdown",
   "metadata": {},
   "source": [
    "## Reading in the data"
   ]
  },
  {
   "cell_type": "code",
   "execution_count": 1,
   "metadata": {},
   "outputs": [],
   "source": [
    "import pandas as pd\n",
    "import re"
   ]
  },
  {
   "cell_type": "code",
   "execution_count": 2,
   "metadata": {},
   "outputs": [],
   "source": [
    "pre_data = pd.read_csv(\"1930_1970_data.csv\")"
   ]
  },
  {
   "cell_type": "code",
   "execution_count": 3,
   "metadata": {},
   "outputs": [
    {
     "data": {
      "text/html": [
       "<div>\n",
       "<style scoped>\n",
       "    .dataframe tbody tr th:only-of-type {\n",
       "        vertical-align: middle;\n",
       "    }\n",
       "\n",
       "    .dataframe tbody tr th {\n",
       "        vertical-align: top;\n",
       "    }\n",
       "\n",
       "    .dataframe thead th {\n",
       "        text-align: right;\n",
       "    }\n",
       "</style>\n",
       "<table border=\"1\" class=\"dataframe\">\n",
       "  <thead>\n",
       "    <tr style=\"text-align: right;\">\n",
       "      <th></th>\n",
       "      <th>Year</th>\n",
       "      <th>Address</th>\n",
       "      <th>MapLotBlock</th>\n",
       "      <th>Direction</th>\n",
       "      <th>LotArea</th>\n",
       "      <th>PropertyDescription</th>\n",
       "      <th>SaleDate</th>\n",
       "      <th>AV</th>\n",
       "      <th>Foreclosure</th>\n",
       "      <th>dim1</th>\n",
       "      <th>dim2</th>\n",
       "      <th>no_stories</th>\n",
       "      <th>Price_org</th>\n",
       "      <th>price</th>\n",
       "      <th>AV1</th>\n",
       "      <th>AV2</th>\n",
       "    </tr>\n",
       "  </thead>\n",
       "  <tbody>\n",
       "    <tr>\n",
       "      <th>0</th>\n",
       "      <td>1930</td>\n",
       "      <td>Chrystie st, 201</td>\n",
       "      <td>2:426-27</td>\n",
       "      <td>ws abt 25 s of Stanton</td>\n",
       "      <td>25x100</td>\n",
       "      <td>5-story bk tnt &amp; strs</td>\n",
       "      <td>-10872</td>\n",
       "      <td>15000-23000</td>\n",
       "      <td>NaN</td>\n",
       "      <td>25.0</td>\n",
       "      <td>100.0</td>\n",
       "      <td>5.0</td>\n",
       "      <td>22000</td>\n",
       "      <td>22000.0</td>\n",
       "      <td>15000.0</td>\n",
       "      <td>23000.0</td>\n",
       "    </tr>\n",
       "    <tr>\n",
       "      <th>1</th>\n",
       "      <td>1930</td>\n",
       "      <td>Eldridge st, 85</td>\n",
       "      <td>1:306-26</td>\n",
       "      <td>ws 125 s Grand</td>\n",
       "      <td>25x100</td>\n",
       "      <td>5-story bk tnt &amp; strs</td>\n",
       "      <td>-10868</td>\n",
       "      <td>35000-46000</td>\n",
       "      <td>Yes</td>\n",
       "      <td>25.0</td>\n",
       "      <td>100.0</td>\n",
       "      <td>5.0</td>\n",
       "      <td>36000</td>\n",
       "      <td>36000.0</td>\n",
       "      <td>35000.0</td>\n",
       "      <td>46000.0</td>\n",
       "    </tr>\n",
       "    <tr>\n",
       "      <th>2</th>\n",
       "      <td>1930</td>\n",
       "      <td>Front st, 76</td>\n",
       "      <td>1:32-19</td>\n",
       "      <td>swc Old slip (No. 27)</td>\n",
       "      <td>19.3x33.3x19.1x33.6</td>\n",
       "      <td>4-story bk loft &amp; str bldg</td>\n",
       "      <td>-10871</td>\n",
       "      <td>25000-28000</td>\n",
       "      <td>NaN</td>\n",
       "      <td>19.3</td>\n",
       "      <td>33.3</td>\n",
       "      <td>4.0</td>\n",
       "      <td>56500</td>\n",
       "      <td>56500.0</td>\n",
       "      <td>25000.0</td>\n",
       "      <td>28000.0</td>\n",
       "    </tr>\n",
       "    <tr>\n",
       "      <th>3</th>\n",
       "      <td>1930</td>\n",
       "      <td>Henry st, 200-202</td>\n",
       "      <td>1:270-49</td>\n",
       "      <td>ss 47.6 w Clinton</td>\n",
       "      <td>47.6x100</td>\n",
       "      <td>6-story bk tnt &amp; strs</td>\n",
       "      <td>-10870</td>\n",
       "      <td>31000-70000</td>\n",
       "      <td>Yes</td>\n",
       "      <td>47.6</td>\n",
       "      <td>100.0</td>\n",
       "      <td>6.0</td>\n",
       "      <td>42000</td>\n",
       "      <td>42000.0</td>\n",
       "      <td>31000.0</td>\n",
       "      <td>70000.0</td>\n",
       "    </tr>\n",
       "    <tr>\n",
       "      <th>4</th>\n",
       "      <td>1930</td>\n",
       "      <td>Morton st, 5</td>\n",
       "      <td>2:587-28</td>\n",
       "      <td>ns 50 w Bleecker</td>\n",
       "      <td>25x86x25x87</td>\n",
       "      <td>5-story stn tnt &amp; strs</td>\n",
       "      <td>-10958</td>\n",
       "      <td>12500-22500</td>\n",
       "      <td>NaN</td>\n",
       "      <td>25.0</td>\n",
       "      <td>86.0</td>\n",
       "      <td>5.0</td>\n",
       "      <td>32000</td>\n",
       "      <td>32000.0</td>\n",
       "      <td>12500.0</td>\n",
       "      <td>22500.0</td>\n",
       "    </tr>\n",
       "  </tbody>\n",
       "</table>\n",
       "</div>"
      ],
      "text/plain": [
       "   Year            Address MapLotBlock               Direction  \\\n",
       "0  1930   Chrystie st, 201    2:426-27  ws abt 25 s of Stanton   \n",
       "1  1930    Eldridge st, 85    1:306-26          ws 125 s Grand   \n",
       "2  1930       Front st, 76     1:32-19   swc Old slip (No. 27)   \n",
       "3  1930  Henry st, 200-202    1:270-49       ss 47.6 w Clinton   \n",
       "4  1930       Morton st, 5    2:587-28        ns 50 w Bleecker   \n",
       "\n",
       "               LotArea         PropertyDescription SaleDate           AV  \\\n",
       "0               25x100       5-story bk tnt & strs   -10872  15000-23000   \n",
       "1               25x100       5-story bk tnt & strs   -10868  35000-46000   \n",
       "2  19.3x33.3x19.1x33.6  4-story bk loft & str bldg   -10871  25000-28000   \n",
       "3             47.6x100       6-story bk tnt & strs   -10870  31000-70000   \n",
       "4          25x86x25x87      5-story stn tnt & strs   -10958  12500-22500   \n",
       "\n",
       "  Foreclosure  dim1   dim2  no_stories Price_org    price      AV1      AV2  \n",
       "0         NaN  25.0  100.0         5.0     22000  22000.0  15000.0  23000.0  \n",
       "1         Yes  25.0  100.0         5.0     36000  36000.0  35000.0  46000.0  \n",
       "2         NaN  19.3   33.3         4.0     56500  56500.0  25000.0  28000.0  \n",
       "3         Yes  47.6  100.0         6.0     42000  42000.0  31000.0  70000.0  \n",
       "4         NaN  25.0   86.0         5.0     32000  32000.0  12500.0  22500.0  "
      ]
     },
     "execution_count": 3,
     "metadata": {},
     "output_type": "execute_result"
    }
   ],
   "source": [
    "pre_data.head()"
   ]
  },
  {
   "cell_type": "code",
   "execution_count": 4,
   "metadata": {},
   "outputs": [
    {
     "data": {
      "text/plain": [
       "Index(['Year', 'Address', 'MapLotBlock', 'Direction', 'LotArea',\n",
       "       'PropertyDescription', 'SaleDate', 'AV', 'Foreclosure', 'dim1', 'dim2',\n",
       "       'no_stories', 'Price_org', 'price', 'AV1', 'AV2'],\n",
       "      dtype='object')"
      ]
     },
     "execution_count": 4,
     "metadata": {},
     "output_type": "execute_result"
    }
   ],
   "source": [
    "pre_data.columns"
   ]
  },
  {
   "cell_type": "code",
   "execution_count": 5,
   "metadata": {},
   "outputs": [
    {
     "data": {
      "text/plain": [
       "0     Chrystie st, 201\n",
       "1      Eldridge st, 85\n",
       "2         Front st, 76\n",
       "3    Henry st, 200-202\n",
       "4         Morton st, 5\n",
       "Name: Address, dtype: object"
      ]
     },
     "execution_count": 5,
     "metadata": {},
     "output_type": "execute_result"
    }
   ],
   "source": [
    "pre_data[\"Address\"].head()"
   ]
  },
  {
   "cell_type": "code",
   "execution_count": 6,
   "metadata": {},
   "outputs": [
    {
     "data": {
      "text/plain": [
       "Year                    object\n",
       "Address                 object\n",
       "MapLotBlock             object\n",
       "Direction               object\n",
       "LotArea                 object\n",
       "PropertyDescription     object\n",
       "SaleDate                object\n",
       "AV                      object\n",
       "Foreclosure             object\n",
       "dim1                   float64\n",
       "dim2                   float64\n",
       "no_stories             float64\n",
       "Price_org               object\n",
       "price                  float64\n",
       "AV1                    float64\n",
       "AV2                    float64\n",
       "dtype: object"
      ]
     },
     "execution_count": 6,
     "metadata": {},
     "output_type": "execute_result"
    }
   ],
   "source": [
    "pre_data.dtypes"
   ]
  },
  {
   "cell_type": "markdown",
   "metadata": {},
   "source": [
    "#### Processing Address column"
   ]
  },
  {
   "cell_type": "code",
   "execution_count": 7,
   "metadata": {},
   "outputs": [],
   "source": [
    "#split the address and append according to the required format\n",
    "def processAddress(address):\n",
    "    # incoming address is actually an object type\n",
    "    address = str(address)\n",
    "    if \",\" in address:\n",
    "        split_ad = address.split(\",\")\n",
    "        number = split_ad[1]\n",
    "        street = split_ad[0]\n",
    "        # strip the leading whitespaces\n",
    "        number = number.lstrip()\n",
    "\n",
    "        # regular expression for handling cases like \"number = 510-512\"\n",
    "        match = re.search(\"\\d+-\\d+\", number)\n",
    "        if match:\n",
    "            numbers = match.group().split(\"-\")\n",
    "            number = re.sub(\"\\d+-\\d+\", numbers[0], number)\n",
    "\n",
    "            # mod_number = \"\"\n",
    "        # parse the number and expand according to the required format\n",
    "        \"\"\"for c in number:\n",
    "            if c == \"E\":\n",
    "                mod_number += \"East\"\n",
    "            elif c == \"W\":\n",
    "                mod_number += \"West\"\n",
    "            else:\n",
    "                mod_number+=c\"\"\"\n",
    "\n",
    "        pattern = \"\\s+W|\\s+w\"\n",
    "        match = re.search(pattern, number)\n",
    "        if match:\n",
    "            number = re.sub(pattern, \" West\", number)\n",
    "\n",
    "        pattern = \"\\sE|\\se\"\n",
    "        match = re.search(pattern, number)\n",
    "        if match:\n",
    "            number = re.sub(pattern, \" East\", number)\n",
    "\n",
    "            # parse the street and perform modifications\n",
    "        pattern = \"\\sst|\\sST|\\ssT|\\sSt\"\n",
    "        match = re.search(pattern, street)\n",
    "        if match:\n",
    "            street = re.sub(pattern, \" street\", street)\n",
    "\n",
    "        pattern = \"\\sav|\\sAV|\\saV|\\sAv\"\n",
    "        match = re.search(pattern, street)\n",
    "        if match:\n",
    "            street = re.sub(pattern, \" avenue\", street)\n",
    "\n",
    "        pattern = \"\\sblvd|\\sBLVD\"\n",
    "        match = re.search(pattern, street)\n",
    "        if match:\n",
    "            street = re.sub(pattern, \" boulevard\", street)\n",
    "\n",
    "        pattern = \"\\spl|\\sPl|\\spL|\\sPL\"\n",
    "        match = re.search(pattern, street)\n",
    "        if match:\n",
    "            street = re.sub(pattern, \" place\", street)\n",
    "\n",
    "        pattern = \"\\sdr|\\sDR|\\dR|\\sDr\"\n",
    "        match = re.search(pattern, street)\n",
    "        if match:\n",
    "            street = re.sub(pattern, \" drive\", street)\n",
    "\n",
    "        pattern = \"\\ster|\\sTER\"\n",
    "        match = re.search(pattern, street)\n",
    "        if match:\n",
    "            street = re.sub(pattern, \" terrace\", street)\n",
    "\n",
    "        pattern = \"\\ssq|\\sSQ|\\sSq|\\ssQ\"\n",
    "        match = re.search(pattern, street)\n",
    "        if match:\n",
    "            street = re.sub(pattern, \" square\", street)\n",
    "\n",
    "        pattern = \"3D|3\\sD|3d|3\\sd\"\n",
    "        match = re.search(pattern, street)\n",
    "        if match:\n",
    "            street = re.sub(pattern, \"3rd\", street)\n",
    "\n",
    "        pattern = \"2D|2\\sD|2d|2\\sd\"\n",
    "        match = re.search(pattern, street)\n",
    "        if match:\n",
    "            street = re.sub(pattern, \"2nd\", street)\n",
    "        \n",
    "        pattern = \"\\s[Ww]$\"\n",
    "        match = re.search(pattern, street)\n",
    "        if match:\n",
    "            street = re.sub(pattern, \" West\", street)\n",
    "        \n",
    "        pattern = \"\\s[Ss]$\"\n",
    "        match = re.search(pattern, street)\n",
    "        if match:\n",
    "            street = re.sub(pattern, \" South\", street)\n",
    "\n",
    "        return number + \" \" + street\n",
    "\n",
    "    else:\n",
    "        return address"
   ]
  },
  {
   "cell_type": "code",
   "execution_count": 8,
   "metadata": {},
   "outputs": [],
   "source": [
    "pre_data['mod_address'] = pre_data['Address'].apply(processAddress)"
   ]
  },
  {
   "cell_type": "code",
   "execution_count": 9,
   "metadata": {},
   "outputs": [],
   "source": [
    "temp_data = pre_data[['Address','mod_address']]"
   ]
  },
  {
   "cell_type": "code",
   "execution_count": 10,
   "metadata": {},
   "outputs": [
    {
     "data": {
      "text/html": [
       "<div>\n",
       "<style scoped>\n",
       "    .dataframe tbody tr th:only-of-type {\n",
       "        vertical-align: middle;\n",
       "    }\n",
       "\n",
       "    .dataframe tbody tr th {\n",
       "        vertical-align: top;\n",
       "    }\n",
       "\n",
       "    .dataframe thead th {\n",
       "        text-align: right;\n",
       "    }\n",
       "</style>\n",
       "<table border=\"1\" class=\"dataframe\">\n",
       "  <thead>\n",
       "    <tr style=\"text-align: right;\">\n",
       "      <th></th>\n",
       "      <th>Address</th>\n",
       "      <th>mod_address</th>\n",
       "    </tr>\n",
       "  </thead>\n",
       "  <tbody>\n",
       "    <tr>\n",
       "      <th>0</th>\n",
       "      <td>Chrystie st, 201</td>\n",
       "      <td>201 Chrystie street</td>\n",
       "    </tr>\n",
       "    <tr>\n",
       "      <th>1</th>\n",
       "      <td>Eldridge st, 85</td>\n",
       "      <td>85 Eldridge street</td>\n",
       "    </tr>\n",
       "    <tr>\n",
       "      <th>2</th>\n",
       "      <td>Front st, 76</td>\n",
       "      <td>76 Front street</td>\n",
       "    </tr>\n",
       "    <tr>\n",
       "      <th>3</th>\n",
       "      <td>Henry st, 200-202</td>\n",
       "      <td>200 Henry street</td>\n",
       "    </tr>\n",
       "    <tr>\n",
       "      <th>4</th>\n",
       "      <td>Morton st, 5</td>\n",
       "      <td>5 Morton street</td>\n",
       "    </tr>\n",
       "  </tbody>\n",
       "</table>\n",
       "</div>"
      ],
      "text/plain": [
       "             Address          mod_address\n",
       "0   Chrystie st, 201  201 Chrystie street\n",
       "1    Eldridge st, 85   85 Eldridge street\n",
       "2       Front st, 76      76 Front street\n",
       "3  Henry st, 200-202     200 Henry street\n",
       "4       Morton st, 5      5 Morton street"
      ]
     },
     "execution_count": 10,
     "metadata": {},
     "output_type": "execute_result"
    }
   ],
   "source": [
    "temp_data.head()"
   ]
  },
  {
   "cell_type": "code",
   "execution_count": 11,
   "metadata": {},
   "outputs": [],
   "source": [
    "temp_data.to_csv(r'export_dataframe_modAddress2.csv', index = False)"
   ]
  },
  {
   "cell_type": "markdown",
   "metadata": {},
   "source": [
    "#### Experimentation "
   ]
  },
  {
   "cell_type": "code",
   "execution_count": 12,
   "metadata": {},
   "outputs": [
    {
     "name": "stdout",
     "output_type": "stream",
     "text": [
      "1128936\n"
     ]
    }
   ],
   "source": [
    "mlb = \"5:1289-pt 1t 36\"\n",
    "match = re.search(\"\\d+-[pP]\",mlb)\n",
    "if match:\n",
    "    blockLot = match.group().split(\"-\")\n",
    "    block = blockLot[0]\n",
    "    lot = re.search(\"\\d+$\",mlb).group()\n",
    "        \n",
    "    mlb = \"1\"+block+lot\n",
    "    \n",
    "\n",
    "print(mlb)"
   ]
  },
  {
   "cell_type": "markdown",
   "metadata": {},
   "source": [
    "### Proessing Maplotblock"
   ]
  },
  {
   "cell_type": "code",
   "execution_count": 15,
   "metadata": {},
   "outputs": [],
   "source": [
    "def processMapLotBlock(mlb):\n",
    "    mlb = str(mlb)\n",
    "    match = re.search(\"\\d+-\\d+\",mlb)\n",
    "    block = \"\"\n",
    "    lot = \"\"\n",
    "    if match:\n",
    "        blockLot = match.group().split(\"-\")\n",
    "        block = blockLot[0]\n",
    "        lot = blockLot[1]\n",
    "    \n",
    "    elif re.search(\"\\d+-[pP]\",mlb):\n",
    "        match = re.search(\"\\d+-[pP]\",mlb)\n",
    "        blockLot = match.group().split(\"-\")\n",
    "        block = blockLot[0]\n",
    "        lot = re.search(\"\\d+$\",mlb).group()\n",
    "    \n",
    "    elif re.search(\"\\d+:\\d+$\",mlb):\n",
    "        match = re.search(\"\\d+:\\d+$\",mlb)\n",
    "        blockLot = match.group().split(\":\")\n",
    "        block = blockLot[1]\n",
    "        lot = \"1\"\n",
    "        \n",
    "    else:\n",
    "        return mlb\n",
    "        \n",
    "        #add zeroes to block if required\n",
    "    zToBlock = 5 - len(block)\n",
    "    if zToBlock != 0:\n",
    "        for i in range(zToBlock):\n",
    "            block = \"0\" + block\n",
    "        \n",
    "    zToLot = 4 - len(lot)\n",
    "    if zToLot != 0:\n",
    "        for i in range(zToLot):\n",
    "            lot = \"0\" + lot\n",
    "        \n",
    "    mlb = \"1\"+block+lot\n",
    "\n",
    "    return mlb\n",
    "\n",
    "#print(processMapLotBlock(\"1:75-17-18\"))"
   ]
  },
  {
   "cell_type": "code",
   "execution_count": 16,
   "metadata": {},
   "outputs": [],
   "source": [
    "pre_data['mod_maplotblock'] = pre_data['MapLotBlock'].apply(processMapLotBlock)"
   ]
  },
  {
   "cell_type": "code",
   "execution_count": 17,
   "metadata": {},
   "outputs": [],
   "source": [
    "temp_data = pre_data[['MapLotBlock','mod_maplotblock']]"
   ]
  },
  {
   "cell_type": "code",
   "execution_count": 18,
   "metadata": {},
   "outputs": [
    {
     "data": {
      "text/html": [
       "<div>\n",
       "<style scoped>\n",
       "    .dataframe tbody tr th:only-of-type {\n",
       "        vertical-align: middle;\n",
       "    }\n",
       "\n",
       "    .dataframe tbody tr th {\n",
       "        vertical-align: top;\n",
       "    }\n",
       "\n",
       "    .dataframe thead th {\n",
       "        text-align: right;\n",
       "    }\n",
       "</style>\n",
       "<table border=\"1\" class=\"dataframe\">\n",
       "  <thead>\n",
       "    <tr style=\"text-align: right;\">\n",
       "      <th></th>\n",
       "      <th>MapLotBlock</th>\n",
       "      <th>mod_maplotblock</th>\n",
       "    </tr>\n",
       "  </thead>\n",
       "  <tbody>\n",
       "    <tr>\n",
       "      <th>0</th>\n",
       "      <td>2:426-27</td>\n",
       "      <td>1004260027</td>\n",
       "    </tr>\n",
       "    <tr>\n",
       "      <th>1</th>\n",
       "      <td>1:306-26</td>\n",
       "      <td>1003060026</td>\n",
       "    </tr>\n",
       "    <tr>\n",
       "      <th>2</th>\n",
       "      <td>1:32-19</td>\n",
       "      <td>1000320019</td>\n",
       "    </tr>\n",
       "    <tr>\n",
       "      <th>3</th>\n",
       "      <td>1:270-49</td>\n",
       "      <td>1002700049</td>\n",
       "    </tr>\n",
       "    <tr>\n",
       "      <th>4</th>\n",
       "      <td>2:587-28</td>\n",
       "      <td>1005870028</td>\n",
       "    </tr>\n",
       "  </tbody>\n",
       "</table>\n",
       "</div>"
      ],
      "text/plain": [
       "  MapLotBlock mod_maplotblock\n",
       "0    2:426-27      1004260027\n",
       "1    1:306-26      1003060026\n",
       "2     1:32-19      1000320019\n",
       "3    1:270-49      1002700049\n",
       "4    2:587-28      1005870028"
      ]
     },
     "execution_count": 18,
     "metadata": {},
     "output_type": "execute_result"
    }
   ],
   "source": [
    "temp_data.head()"
   ]
  },
  {
   "cell_type": "code",
   "execution_count": 19,
   "metadata": {},
   "outputs": [],
   "source": [
    "temp_data.to_csv(r'export_mbl_df.csv',index=False)"
   ]
  },
  {
   "cell_type": "markdown",
   "metadata": {},
   "source": [
    "#### Process LotArea"
   ]
  },
  {
   "cell_type": "code",
   "execution_count": 7,
   "metadata": {},
   "outputs": [],
   "source": [
    "def areaCal(exp):\n",
    "    exp = str(exp)\n",
    "    area = 0\n",
    "    #condition for containing more than 1 lot\n",
    "    match = re.search(\"(and)\",exp)\n",
    "    if match:\n",
    "        lotList = exp.split(\"and\")\n",
    "        for lot in lotList:\n",
    "            area += areaCal(lot.strip())\n",
    "        return area\n",
    "    \n",
    "    match = re.search(\"^(runs)\",exp)\n",
    "    #condition for handling runs\n",
    "    if match:\n",
    "        match = re.search(\"\\d+\\.*\\d+\",exp)\n",
    "        \n",
    "        \n",
    "    #condition for running just numbers\n",
    "    else:\n",
    "        \n",
    "        exp = re.sub(\"X\",\"x\",exp)\n",
    "        dimList = exp.split(\"x\")\n",
    "        \n",
    "        if len(dimList) ==2: \n",
    "            try:\n",
    "                width = float(dimList[0])\n",
    "            except:\n",
    "                #print(\"convertion error for width\")\n",
    "                return area\n",
    "        \n",
    "            try:\n",
    "                breadth = float(dimList[1])\n",
    "            except:\n",
    "                #print(\"Convertion error for breadth\")\n",
    "                return area\n",
    "        \n",
    "            area = width*breadth\n",
    "        \n",
    "        elif len(dimList) ==4:\n",
    "            for i in range(len(dimList)):\n",
    "                try:\n",
    "                    dimList[i] = float(dimList[i])\n",
    "                except ValueError:\n",
    "                    #print('one of the dimension is not a number')\n",
    "                    return area    \n",
    "            dimList.sort()\n",
    "            area = dimList[0]*dimList[3]\n",
    "            \n",
    "    \n",
    "    return area        "
   ]
  },
  {
   "cell_type": "code",
   "execution_count": 8,
   "metadata": {},
   "outputs": [],
   "source": [
    "pre_data['Calculated_area'] = pre_data['LotArea'].apply(areaCal)"
   ]
  },
  {
   "cell_type": "code",
   "execution_count": 9,
   "metadata": {},
   "outputs": [
    {
     "data": {
      "text/plain": [
       "0       2500.000\n",
       "1       2500.000\n",
       "2        641.760\n",
       "3       4760.000\n",
       "4       2175.000\n",
       "5          0.000\n",
       "6          0.000\n",
       "7          0.000\n",
       "8       1520.000\n",
       "9          0.000\n",
       "10      4890.000\n",
       "11      4377.440\n",
       "12         0.000\n",
       "13      4373.080\n",
       "14         0.000\n",
       "15         0.000\n",
       "16         0.000\n",
       "17      1575.000\n",
       "18      2582.500\n",
       "19      2300.000\n",
       "20         0.000\n",
       "21      2472.500\n",
       "22      1978.000\n",
       "23      2110.500\n",
       "24         0.000\n",
       "25      8482.600\n",
       "26         0.000\n",
       "27      3343.674\n",
       "28      2002.200\n",
       "29      1694.781\n",
       "          ...   \n",
       "4549    7537.500\n",
       "4550    1297.500\n",
       "4551    4041.600\n",
       "4552    3750.600\n",
       "4553       0.000\n",
       "4554    1899.450\n",
       "4555       0.000\n",
       "4556    1023.040\n",
       "4557    2203.780\n",
       "4558    3015.000\n",
       "4559    2502.750\n",
       "4560       0.000\n",
       "4561       0.000\n",
       "4562    2216.330\n",
       "4563       0.000\n",
       "4564       0.000\n",
       "4565       0.000\n",
       "4566       0.000\n",
       "4567    3966.800\n",
       "4568    2500.000\n",
       "4569    1199.231\n",
       "4570       0.000\n",
       "4571       0.000\n",
       "4572       0.000\n",
       "4573       0.000\n",
       "4574    2142.354\n",
       "4575    1775.840\n",
       "4576       0.000\n",
       "4577    2002.200\n",
       "4578    1476.000\n",
       "Name: Calculated_area, Length: 4579, dtype: float64"
      ]
     },
     "execution_count": 9,
     "metadata": {},
     "output_type": "execute_result"
    }
   ],
   "source": [
    "pre_data['Calculated_area']"
   ]
  },
  {
   "cell_type": "code",
   "execution_count": 10,
   "metadata": {},
   "outputs": [],
   "source": [
    "temp_data = pre_data[['LotArea','Calculated_area']]"
   ]
  },
  {
   "cell_type": "code",
   "execution_count": 12,
   "metadata": {},
   "outputs": [],
   "source": [
    "temp_data.to_csv(r'export_lotArea_df.csv',index=False)"
   ]
  },
  {
   "cell_type": "code",
   "execution_count": null,
   "metadata": {},
   "outputs": [],
   "source": []
  }
 ],
 "metadata": {
  "kernelspec": {
   "display_name": "Python 3",
   "language": "python",
   "name": "python3"
  },
  "language_info": {
   "codemirror_mode": {
    "name": "ipython",
    "version": 3
   },
   "file_extension": ".py",
   "mimetype": "text/x-python",
   "name": "python",
   "nbconvert_exporter": "python",
   "pygments_lexer": "ipython3",
   "version": "3.7.1"
  }
 },
 "nbformat": 4,
 "nbformat_minor": 2
}
